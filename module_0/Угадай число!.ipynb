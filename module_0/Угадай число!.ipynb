{
 "cells": [
  {
   "cell_type": "code",
   "execution_count": 7,
   "metadata": {},
   "outputs": [
    {
     "name": "stdout",
     "output_type": "stream",
     "text": [
      "Ваш алгоритм угадывает число в среднем за 5 попыток\n"
     ]
    },
    {
     "data": {
      "text/plain": [
       "5"
      ]
     },
     "execution_count": 7,
     "metadata": {},
     "output_type": "execute_result"
    }
   ],
   "source": [
    "'''Угадываем число от 1 до 100 и определяем, сколько в среднем нужно попыток для нахождения числа'''\n",
    "\n",
    "import numpy as np\n",
    "def game_core(number):\n",
    "    '''Используем метод вилки для нахождения загаданного числа за минимальное число попыток: \n",
    "    на каждом шаге опрелеяем середину отрезка и сравниваем значение с загаданным чисом до тех пор,\n",
    "    пока значение середины отрезка не станет равно загаданному числу.\n",
    "       Функция принимает загаданное число и возвращает число попыток'''\n",
    "    left_value = 1     # задаем значение для начала отрезка\n",
    "    right_value = 100  # задаем значение для конца отрезка\n",
    "    middle_value = 0   # задаем значение середины отрезка по умолчанию\n",
    "    count = 0          # задаем начальное значение счетчика количества попыток\n",
    "\n",
    "    while middle_value != number:  # выполняем цикл попыток пока не найдем загаданное число\n",
    "        count += 1                 # с каждой попыткой увеличиваем значение счетчика на 1\n",
    "        middle_value = int((left_value+right_value)/2) # определяем значение середины отрезка\n",
    "        if middle_value < number:    # при таком условии началом отрезка становится его центр \n",
    "            left_value = middle_value   \n",
    "        elif middle_value > number:  # при таком условии концом отрезка становится его центр\n",
    "            right_value = middle_value\n",
    "    return(count) # выход из цикла, если угадали\n",
    "        \n",
    "def score_game(game_core):\n",
    "    '''Запускаем игру 1000 раз, чтоб узнать как быстро игра угадывает число'''\n",
    "    count_ls = []      # создаем пустой список, в который будем записывать число попыток для каждого числа\n",
    "    np.random.seed(1)  # фиксируем RANDOM SEED, чтобы ваш эксперимент был воспроизводим!\n",
    "    random_array = np.random.randint(1,100, size=(1000))  # массив загаданных чисел размером от 1 до 1000\n",
    "    for number in random_array:   # для всех числе в \n",
    "        count_ls.append(game_core(number))\n",
    "    score = int(np.mean(count_ls))\n",
    "    print(f\"Ваш алгоритм угадывает число в среднем за {score} попыток\")\n",
    "    return(score)\n",
    "\n",
    "# Проверяем\n",
    "score_game(game_core)"
   ]
  }
 ],
 "metadata": {
  "kernelspec": {
   "display_name": "Python 3",
   "language": "python",
   "name": "python3"
  },
  "language_info": {
   "codemirror_mode": {
    "name": "ipython",
    "version": 3
   },
   "file_extension": ".py",
   "mimetype": "text/x-python",
   "name": "python",
   "nbconvert_exporter": "python",
   "pygments_lexer": "ipython3",
   "version": "3.7.6"
  }
 },
 "nbformat": 4,
 "nbformat_minor": 4
}
