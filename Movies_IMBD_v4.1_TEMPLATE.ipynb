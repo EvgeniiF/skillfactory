{
 "cells": [
  {
   "cell_type": "code",
   "execution_count": 6,
   "metadata": {
    "_cell_guid": "b1076dfc-b9ad-4769-8c92-a6c4dae69d19",
    "_uuid": "8f2839f25d086af736a60e9eeb907d3b93b6e0e5",
    "colab": {},
    "colab_type": "code",
    "id": "U2D2gTdJVp90"
   },
   "outputs": [],
   "source": [
    "import numpy as np\n",
    "import pandas as pd\n",
    "import seaborn as sns\n",
    "import matplotlib.pyplot as plt\n",
    "from collections import Counter"
   ]
  },
  {
   "cell_type": "code",
   "execution_count": 9,
   "metadata": {
    "_cell_guid": "79c7e3d0-c299-4dcb-8224-4455121ee9b0",
    "_uuid": "d629ff2d2480ee46fbb7e2d37f6b5fab8052498a",
    "colab": {},
    "colab_type": "code",
    "id": "oyGfxL3eVp9-"
   },
   "outputs": [
    {
     "data": {
      "text/html": [
       "<div>\n",
       "<style scoped>\n",
       "    .dataframe tbody tr th:only-of-type {\n",
       "        vertical-align: middle;\n",
       "    }\n",
       "\n",
       "    .dataframe tbody tr th {\n",
       "        vertical-align: top;\n",
       "    }\n",
       "\n",
       "    .dataframe thead th {\n",
       "        text-align: right;\n",
       "    }\n",
       "</style>\n",
       "<table border=\"1\" class=\"dataframe\">\n",
       "  <thead>\n",
       "    <tr style=\"text-align: right;\">\n",
       "      <th></th>\n",
       "      <th>imdb_id</th>\n",
       "      <th>budget</th>\n",
       "      <th>revenue</th>\n",
       "      <th>original_title</th>\n",
       "      <th>cast</th>\n",
       "      <th>director</th>\n",
       "      <th>tagline</th>\n",
       "      <th>overview</th>\n",
       "      <th>runtime</th>\n",
       "      <th>genres</th>\n",
       "      <th>production_companies</th>\n",
       "      <th>release_date</th>\n",
       "      <th>vote_average</th>\n",
       "      <th>release_year</th>\n",
       "    </tr>\n",
       "  </thead>\n",
       "  <tbody>\n",
       "    <tr>\n",
       "      <th>1372</th>\n",
       "      <td>tt0404032</td>\n",
       "      <td>19000000</td>\n",
       "      <td>144216468</td>\n",
       "      <td>The Exorcism of Emily Rose</td>\n",
       "      <td>Laura Linney|Tom Wilkinson|Campbell Scott|Jenn...</td>\n",
       "      <td>Scott Derrickson</td>\n",
       "      <td>What happened to Emily?</td>\n",
       "      <td>When a younger girl called Emily Rose (Carpent...</td>\n",
       "      <td>122</td>\n",
       "      <td>Crime|Drama|Horror|Thriller</td>\n",
       "      <td>Lakeshore Entertainment|Firm Films|Screen Gems</td>\n",
       "      <td>9/9/2005</td>\n",
       "      <td>6.2</td>\n",
       "      <td>2005</td>\n",
       "    </tr>\n",
       "    <tr>\n",
       "      <th>731</th>\n",
       "      <td>tt1570728</td>\n",
       "      <td>50000000</td>\n",
       "      <td>142851197</td>\n",
       "      <td>Crazy, Stupid, Love.</td>\n",
       "      <td>Steve Carell|Julianne Moore|Ryan Gosling|Emma ...</td>\n",
       "      <td>Glenn Ficarra|John Requa</td>\n",
       "      <td>This Is Stupid</td>\n",
       "      <td>Cal Weaver is living the American dream. He ha...</td>\n",
       "      <td>118</td>\n",
       "      <td>Comedy|Drama|Romance</td>\n",
       "      <td>Warner Bros.</td>\n",
       "      <td>7/29/2011</td>\n",
       "      <td>6.9</td>\n",
       "      <td>2011</td>\n",
       "    </tr>\n",
       "    <tr>\n",
       "      <th>1092</th>\n",
       "      <td>tt0319061</td>\n",
       "      <td>70000000</td>\n",
       "      <td>122919055</td>\n",
       "      <td>Big Fish</td>\n",
       "      <td>Ewan McGregor|Albert Finney|Billy Crudup|Jessi...</td>\n",
       "      <td>Tim Burton</td>\n",
       "      <td>An adventure as big as life itself.</td>\n",
       "      <td>Throughout his life Edward Bloom has always be...</td>\n",
       "      <td>125</td>\n",
       "      <td>Adventure|Fantasy|Drama</td>\n",
       "      <td>The Zanuck Company|Columbia Pictures Corporati...</td>\n",
       "      <td>12/25/2003</td>\n",
       "      <td>7.4</td>\n",
       "      <td>2003</td>\n",
       "    </tr>\n",
       "    <tr>\n",
       "      <th>562</th>\n",
       "      <td>tt0227445</td>\n",
       "      <td>68000000</td>\n",
       "      <td>71069884</td>\n",
       "      <td>The Score</td>\n",
       "      <td>Robert De Niro|Edward Norton|Marlon Brando|Ang...</td>\n",
       "      <td>Frank Oz</td>\n",
       "      <td>There are no partners in crime</td>\n",
       "      <td>An aging thief hopes to retire and live off hi...</td>\n",
       "      <td>124</td>\n",
       "      <td>Action|Crime|Thriller</td>\n",
       "      <td>Paramount Pictures|Mandalay Pictures|Horseshoe...</td>\n",
       "      <td>7/13/2001</td>\n",
       "      <td>6.6</td>\n",
       "      <td>2001</td>\n",
       "    </tr>\n",
       "    <tr>\n",
       "      <th>1160</th>\n",
       "      <td>tt0289992</td>\n",
       "      <td>50000000</td>\n",
       "      <td>38955598</td>\n",
       "      <td>The Life of David Gale</td>\n",
       "      <td>Kevin Spacey|Kate Winslet|Laura Linney|Gabriel...</td>\n",
       "      <td>Alan Parker</td>\n",
       "      <td>The crime is clear. The truth is not.</td>\n",
       "      <td>A man against capital punishment is accused of...</td>\n",
       "      <td>130</td>\n",
       "      <td>Drama|Thriller|Crime</td>\n",
       "      <td>Universal Pictures|Intermedia Films|Saturn Films</td>\n",
       "      <td>2/21/2003</td>\n",
       "      <td>7.2</td>\n",
       "      <td>2003</td>\n",
       "    </tr>\n",
       "  </tbody>\n",
       "</table>\n",
       "</div>"
      ],
      "text/plain": [
       "        imdb_id    budget    revenue              original_title  \\\n",
       "1372  tt0404032  19000000  144216468  The Exorcism of Emily Rose   \n",
       "731   tt1570728  50000000  142851197        Crazy, Stupid, Love.   \n",
       "1092  tt0319061  70000000  122919055                    Big Fish   \n",
       "562   tt0227445  68000000   71069884                   The Score   \n",
       "1160  tt0289992  50000000   38955598      The Life of David Gale   \n",
       "\n",
       "                                                   cast  \\\n",
       "1372  Laura Linney|Tom Wilkinson|Campbell Scott|Jenn...   \n",
       "731   Steve Carell|Julianne Moore|Ryan Gosling|Emma ...   \n",
       "1092  Ewan McGregor|Albert Finney|Billy Crudup|Jessi...   \n",
       "562   Robert De Niro|Edward Norton|Marlon Brando|Ang...   \n",
       "1160  Kevin Spacey|Kate Winslet|Laura Linney|Gabriel...   \n",
       "\n",
       "                      director                                tagline  \\\n",
       "1372          Scott Derrickson                What happened to Emily?   \n",
       "731   Glenn Ficarra|John Requa                         This Is Stupid   \n",
       "1092                Tim Burton    An adventure as big as life itself.   \n",
       "562                   Frank Oz         There are no partners in crime   \n",
       "1160               Alan Parker  The crime is clear. The truth is not.   \n",
       "\n",
       "                                               overview  runtime  \\\n",
       "1372  When a younger girl called Emily Rose (Carpent...      122   \n",
       "731   Cal Weaver is living the American dream. He ha...      118   \n",
       "1092  Throughout his life Edward Bloom has always be...      125   \n",
       "562   An aging thief hopes to retire and live off hi...      124   \n",
       "1160  A man against capital punishment is accused of...      130   \n",
       "\n",
       "                           genres  \\\n",
       "1372  Crime|Drama|Horror|Thriller   \n",
       "731          Comedy|Drama|Romance   \n",
       "1092      Adventure|Fantasy|Drama   \n",
       "562         Action|Crime|Thriller   \n",
       "1160         Drama|Thriller|Crime   \n",
       "\n",
       "                                   production_companies release_date  \\\n",
       "1372     Lakeshore Entertainment|Firm Films|Screen Gems     9/9/2005   \n",
       "731                                        Warner Bros.    7/29/2011   \n",
       "1092  The Zanuck Company|Columbia Pictures Corporati...   12/25/2003   \n",
       "562   Paramount Pictures|Mandalay Pictures|Horseshoe...    7/13/2001   \n",
       "1160   Universal Pictures|Intermedia Films|Saturn Films    2/21/2003   \n",
       "\n",
       "      vote_average  release_year  \n",
       "1372           6.2          2005  \n",
       "731            6.9          2011  \n",
       "1092           7.4          2003  \n",
       "562            6.6          2001  \n",
       "1160           7.2          2003  "
      ]
     },
     "execution_count": 9,
     "metadata": {},
     "output_type": "execute_result"
    }
   ],
   "source": [
    "data = pd.read_csv('movie_bd_v5.csv')\n",
    "data.sample(5)"
   ]
  },
  {
   "cell_type": "code",
   "execution_count": 0,
   "metadata": {
    "colab": {},
    "colab_type": "code",
    "id": "CoYUnagMVp-C"
   },
   "outputs": [],
   "source": [
    "data.describe()"
   ]
  },
  {
   "cell_type": "markdown",
   "metadata": {
    "colab_type": "text",
    "id": "DTIt7ezGVp-G"
   },
   "source": [
    "# Предобработка"
   ]
  },
  {
   "cell_type": "code",
   "execution_count": 10,
   "metadata": {
    "colab": {},
    "colab_type": "code",
    "id": "jNb40DwKVp-H"
   },
   "outputs": [],
   "source": [
    "answers = {} # создадим словарь для ответов\n",
    "\n",
    "# преобразуем столбец 'release_date' в формат datetime\n",
    "data['release_date'] = pd.to_datetime(data['release_date'])\n",
    "\n",
    "# доюавляем столбец 'profit'\n",
    "data['profit'] = data['revenue'] - data['budget']\n",
    "\n",
    "# доюавляем столбец 'month'\n",
    "data['month'] = data['release_date'].dt.month"
   ]
  },
  {
   "cell_type": "markdown",
   "metadata": {
    "colab_type": "text",
    "id": "YxZaH-nPVp-L"
   },
   "source": [
    "# 1. У какого фильма из списка самый большой бюджет?"
   ]
  },
  {
   "cell_type": "markdown",
   "metadata": {
    "colab_type": "text",
    "id": "Nd-G5gX6Vp-M"
   },
   "source": [
    "Использовать варианты ответов в коде решения запрещено.    \n",
    "Вы думаете и в жизни у вас будут варианты ответов?)"
   ]
  },
  {
   "cell_type": "code",
   "execution_count": 14,
   "metadata": {
    "colab": {},
    "colab_type": "code",
    "id": "uVnXAY5RVp-O"
   },
   "outputs": [],
   "source": [
    "answers['1'] = '1. Pirates of the Caribbean: On Stranger Tides (tt1298650)'\n",
    "# +"
   ]
  },
  {
   "cell_type": "code",
   "execution_count": 0,
   "metadata": {
    "colab": {},
    "colab_type": "code",
    "id": "dZwb3m28Vp-S"
   },
   "outputs": [],
   "source": [
    "# название фильма с максимальным бюджетом\n",
    "data['original_title'][data['budget'] == data['budget'].max()]"
   ]
  },
  {
   "cell_type": "markdown",
   "metadata": {
    "colab_type": "text",
    "id": "K7L3nbRXVp-X"
   },
   "source": [
    "ВАРИАНТ 2"
   ]
  },
  {
   "cell_type": "code",
   "execution_count": 0,
   "metadata": {
    "colab": {},
    "colab_type": "code",
    "id": "OGaoQI7rVp-X"
   },
   "outputs": [],
   "source": [
    "# можно добавлять разные варианты решения"
   ]
  },
  {
   "cell_type": "markdown",
   "metadata": {
    "colab_type": "text",
    "id": "FNRbbI3vVp-c"
   },
   "source": [
    "# 2. Какой из фильмов самый длительный (в минутах)?"
   ]
  },
  {
   "cell_type": "code",
   "execution_count": 15,
   "metadata": {
    "colab": {},
    "colab_type": "code",
    "id": "vHAoEXNTVp-d"
   },
   "outputs": [],
   "source": [
    "answers['2'] = '2. Gods and Generals (tt0279111)'\n",
    "# +"
   ]
  },
  {
   "cell_type": "code",
   "execution_count": 0,
   "metadata": {
    "colab": {},
    "colab_type": "code",
    "id": "ot-VX2XrVp-g"
   },
   "outputs": [],
   "source": [
    "# название фильма с максимальной длительностью\n",
    "data['original_title'][data['runtime'] == data['runtime'].max()]"
   ]
  },
  {
   "cell_type": "markdown",
   "metadata": {
    "colab_type": "text",
    "id": "bapLlpW8Vp-k"
   },
   "source": [
    "# 3. Какой из фильмов самый короткий (в минутах)?\n",
    "\n",
    "\n",
    "\n"
   ]
  },
  {
   "cell_type": "code",
   "execution_count": 17,
   "metadata": {
    "colab": {},
    "colab_type": "code",
    "id": "YBxaSHuAVp-l"
   },
   "outputs": [],
   "source": [
    "answers['3'] = '3. Winnie the Pooh (tt1449283)'\n",
    "# +"
   ]
  },
  {
   "cell_type": "code",
   "execution_count": null,
   "metadata": {},
   "outputs": [],
   "source": [
    "# название фильма с минимальной длительностью\n",
    "data['original_title'][data['runtime'] == data['runtime'].min()]"
   ]
  },
  {
   "cell_type": "markdown",
   "metadata": {
    "colab_type": "text",
    "id": "TfQbxbfNVp-p"
   },
   "source": [
    "# 4. Какова средняя длительность фильмов?\n"
   ]
  },
  {
   "cell_type": "code",
   "execution_count": 18,
   "metadata": {
    "colab": {},
    "colab_type": "code",
    "id": "5K6dKZYVVp-q"
   },
   "outputs": [],
   "source": [
    "answers['4'] = '4. 110'\n",
    "# +"
   ]
  },
  {
   "cell_type": "code",
   "execution_count": null,
   "metadata": {},
   "outputs": [],
   "source": [
    "# средяя длительность фильмов\n",
    "data['runtime'].mean()"
   ]
  },
  {
   "cell_type": "markdown",
   "metadata": {
    "colab_type": "text",
    "id": "r5TvbnT_Vp-u"
   },
   "source": [
    "# 5. Каково медианное значение длительности фильмов? "
   ]
  },
  {
   "cell_type": "code",
   "execution_count": 19,
   "metadata": {
    "colab": {},
    "colab_type": "code",
    "id": "iBROplKnVp-v"
   },
   "outputs": [],
   "source": [
    "answers['5'] = '5. 107'\n",
    "# +"
   ]
  },
  {
   "cell_type": "code",
   "execution_count": null,
   "metadata": {},
   "outputs": [],
   "source": [
    "# медианное значение длительности фильмов\n",
    "data['runtime'].median()"
   ]
  },
  {
   "cell_type": "markdown",
   "metadata": {
    "colab_type": "text",
    "id": "39P-deDSVp-y"
   },
   "source": [
    "# 6. Какой самый прибыльный фильм?\n",
    "#### Внимание! Здесь и далее под «прибылью» или «убытками» понимается разность между сборами и бюджетом фильма. (прибыль = сборы - бюджет) в нашем датасете это будет (profit = revenue - budget) "
   ]
  },
  {
   "cell_type": "code",
   "execution_count": 21,
   "metadata": {
    "colab": {},
    "colab_type": "code",
    "id": "UYZh4T9WVp-y"
   },
   "outputs": [],
   "source": [
    "answers['6'] = '6. Avatar (tt0499549)'\n",
    "# +"
   ]
  },
  {
   "cell_type": "code",
   "execution_count": null,
   "metadata": {},
   "outputs": [],
   "source": [
    "# название фильма с максимальной прибылью\n",
    "data['original_title'][data['profit'] == data['profit'].max()]"
   ]
  },
  {
   "cell_type": "markdown",
   "metadata": {
    "colab_type": "text",
    "id": "M99JmIX4Vp-2"
   },
   "source": [
    "# 7. Какой фильм самый убыточный? "
   ]
  },
  {
   "cell_type": "code",
   "execution_count": 22,
   "metadata": {
    "colab": {},
    "colab_type": "code",
    "id": "w-D2m4XPVp-3"
   },
   "outputs": [],
   "source": [
    "answers['7'] = '7. The Lone Ranger (tt1210819)'\n",
    "# +"
   ]
  },
  {
   "cell_type": "code",
   "execution_count": null,
   "metadata": {},
   "outputs": [],
   "source": [
    "# название фильма с минимальной прибылью\n",
    "data['original_title'][data['profit'] == data['profit'].min()]"
   ]
  },
  {
   "cell_type": "markdown",
   "metadata": {
    "colab_type": "text",
    "id": "wEOM5ERVVp-6"
   },
   "source": [
    "# 8. У скольких фильмов из датасета объем сборов оказался выше бюджета?"
   ]
  },
  {
   "cell_type": "code",
   "execution_count": 23,
   "metadata": {
    "colab": {},
    "colab_type": "code",
    "id": "y00_7HD6Vp-7"
   },
   "outputs": [],
   "source": [
    "answers['8'] = '8. 1478'\n",
    "# +"
   ]
  },
  {
   "cell_type": "code",
   "execution_count": null,
   "metadata": {},
   "outputs": [],
   "source": [
    "# количество фильмов с прибылью больше нуля\n",
    "len(data[data['profit'] > 0])"
   ]
  },
  {
   "cell_type": "markdown",
   "metadata": {
    "colab_type": "text",
    "id": "xhpspA9KVp_A"
   },
   "source": [
    "# 9. Какой фильм оказался самым кассовым в 2008 году?"
   ]
  },
  {
   "cell_type": "code",
   "execution_count": 24,
   "metadata": {
    "colab": {},
    "colab_type": "code",
    "id": "MoUyQr9RVp_B"
   },
   "outputs": [],
   "source": [
    "answers['9'] = '9. The Dark Knight (tt0468569)'\n",
    "# +"
   ]
  },
  {
   "cell_type": "code",
   "execution_count": null,
   "metadata": {},
   "outputs": [],
   "source": [
    "# название фильма с максимльной прибылью в 2008 году \n",
    "data['original_title'][data['profit'] == data['profit'][data['release_year'] == 2008].max()]"
   ]
  },
  {
   "cell_type": "markdown",
   "metadata": {
    "colab_type": "text",
    "id": "Zi4hDKidVp_F"
   },
   "source": [
    "# 10. Самый убыточный фильм за период с 2012 по 2014 г. (включительно)?\n"
   ]
  },
  {
   "cell_type": "code",
   "execution_count": 26,
   "metadata": {
    "colab": {},
    "colab_type": "code",
    "id": "XqyRmufJVp_F"
   },
   "outputs": [],
   "source": [
    "answers['10'] = '10. The Lone Ranger (tt1210819)'\n",
    "# +"
   ]
  },
  {
   "cell_type": "code",
   "execution_count": 25,
   "metadata": {},
   "outputs": [
    {
     "data": {
      "text/plain": [
       "1245    The Lone Ranger\n",
       "Name: original_title, dtype: object"
      ]
     },
     "execution_count": 25,
     "metadata": {},
     "output_type": "execute_result"
    }
   ],
   "source": [
    "# название фильма с минимальной прибылью в 2012-2014 годах\n",
    "data['original_title'][data['profit'] == data['profit'][(2012 <= data['release_year']) \n",
    "                                                        & (data['release_year'] <= 2014)].min()]"
   ]
  },
  {
   "cell_type": "markdown",
   "metadata": {
    "colab_type": "text",
    "id": "EA7Sa9dkVp_I"
   },
   "source": [
    "# 11. Какого жанра фильмов больше всего?"
   ]
  },
  {
   "cell_type": "code",
   "execution_count": 29,
   "metadata": {
    "colab": {},
    "colab_type": "code",
    "id": "zsJAwJ8QVp_J"
   },
   "outputs": [],
   "source": [
    "answers['11'] = '11. Drama'\n",
    "# +"
   ]
  },
  {
   "cell_type": "code",
   "execution_count": null,
   "metadata": {},
   "outputs": [],
   "source": [
    "# считаем количество каждого жанра для Series, содеожащего згачения жанров датафрейма\n",
    "df = data\n",
    "d = pd.Series(df['genres'].str.cat(sep='|').split('|'))\n",
    "d.value_counts()"
   ]
  },
  {
   "cell_type": "markdown",
   "metadata": {
    "colab_type": "text",
    "id": "Ax6g2C8SVp_M"
   },
   "source": [
    "ВАРИАНТ 2"
   ]
  },
  {
   "cell_type": "code",
   "execution_count": 0,
   "metadata": {
    "colab": {},
    "colab_type": "code",
    "id": "otO3SbrSVp_N"
   },
   "outputs": [],
   "source": []
  },
  {
   "cell_type": "markdown",
   "metadata": {
    "colab_type": "text",
    "id": "T9_bPWpkVp_Q"
   },
   "source": [
    "# 12. Фильмы какого жанра чаще всего становятся прибыльными? "
   ]
  },
  {
   "cell_type": "code",
   "execution_count": 30,
   "metadata": {
    "colab": {},
    "colab_type": "code",
    "id": "Tmt8MaK1Vp_R"
   },
   "outputs": [],
   "source": [
    "answers['12'] = '12. Drama'\n",
    "# +"
   ]
  },
  {
   "cell_type": "code",
   "execution_count": null,
   "metadata": {},
   "outputs": [],
   "source": [
    "# фильтр по прибылт больше 0\n",
    "df = data[data['profit'] > 0]\n",
    "\n",
    "# подсчет по жанрам\n",
    "d = pd.Series(df['genres'].str.cat(sep='|').split('|'))\n",
    "d.value_counts()"
   ]
  },
  {
   "cell_type": "markdown",
   "metadata": {
    "colab_type": "text",
    "id": "0F23bgsDVp_U"
   },
   "source": [
    "# 13. У какого режиссера самые большие суммарные кассовые сбооры?"
   ]
  },
  {
   "cell_type": "code",
   "execution_count": 31,
   "metadata": {
    "colab": {},
    "colab_type": "code",
    "id": "K6Z3J8ygVp_X"
   },
   "outputs": [],
   "source": [
    "answers['13'] = '13. Peter Jackson'\n",
    "# +"
   ]
  },
  {
   "cell_type": "code",
   "execution_count": null,
   "metadata": {},
   "outputs": [],
   "source": [
    "# группируем датафрейм по директорам, суммируем значения и сортируем по сумме кассовых сборов\n",
    "data.groupby(['director']).sum().sort_values(by = ['revenue'], ascending=False)"
   ]
  },
  {
   "cell_type": "markdown",
   "metadata": {
    "colab_type": "text",
    "id": "PsYC9FgRVp_a"
   },
   "source": [
    "# 14. Какой режисер снял больше всего фильмов в стиле Action?"
   ]
  },
  {
   "cell_type": "code",
   "execution_count": 32,
   "metadata": {
    "colab": {},
    "colab_type": "code",
    "id": "wd2M-wHeVp_b"
   },
   "outputs": [],
   "source": [
    "answers['14'] = '14. Robert Rodriguez'\n",
    "# +"
   ]
  },
  {
   "cell_type": "code",
   "execution_count": null,
   "metadata": {},
   "outputs": [],
   "source": [
    "# фильтр по жанрам, в присутствует есть жанр Action\n",
    "df = data[data['genres'].str.contains('Action')]\n",
    "\n",
    "# подсчет количества фиьмов для режиссеров\n",
    "d = pd.Series(df['director'].str.cat(sep='|').split('|'))\n",
    "d.value_counts()"
   ]
  },
  {
   "cell_type": "markdown",
   "metadata": {
    "colab_type": "text",
    "id": "PQ0KciD7Vp_f"
   },
   "source": [
    "# 15. Фильмы с каким актером принесли самые высокие кассовые сборы в 2012 году? "
   ]
  },
  {
   "cell_type": "code",
   "execution_count": 34,
   "metadata": {
    "colab": {},
    "colab_type": "code",
    "id": "aga62oeKVp_g"
   },
   "outputs": [],
   "source": [
    "answers['15'] = '15. Chris Hemsworth'\n",
    "# +"
   ]
  },
  {
   "cell_type": "code",
   "execution_count": 33,
   "metadata": {},
   "outputs": [
    {
     "data": {
      "text/plain": [
       "Chris Hemsworth    2027450773\n",
       "Denis Leary        1629460639\n",
       "Anne Hathaway      1522851057\n",
       "Chris Evans        1519557910\n",
       "Mark Ruffalo       1519557910\n",
       "                      ...    \n",
       "Michael Nyqvist       3428048\n",
       "Nicolas Cage          2106557\n",
       "Josh Lucas            2106557\n",
       "Sami Gayle            2106557\n",
       "Danny Huston          2106557\n",
       "Length: 466, dtype: int64"
      ]
     },
     "execution_count": 33,
     "metadata": {},
     "output_type": "execute_result"
    }
   ],
   "source": [
    "# фильтр по 2012 году\n",
    "df = data[data['release_year'] == 2012]\n",
    "\n",
    "# подсчет кассовых сборов для каждого актера\n",
    "d = pd.Series(df['cast'].str.cat(sep='|').split('|'))\n",
    "d = d.value_counts(ascending=False)\n",
    "for actor in d.index:\n",
    "    d[actor] = df['revenue'][df['cast'].map(lambda x: True if actor in x else False)].sum()\n",
    "d.sort_values(ascending=False)"
   ]
  },
  {
   "cell_type": "markdown",
   "metadata": {
    "colab_type": "text",
    "id": "mWHyyL7QVp_j"
   },
   "source": [
    "# 16. Какой актер снялся в большем количестве высокобюджетных фильмов?"
   ]
  },
  {
   "cell_type": "code",
   "execution_count": 38,
   "metadata": {
    "colab": {},
    "colab_type": "code",
    "id": "qQtmHKTFVp_k"
   },
   "outputs": [],
   "source": [
    "answers['16'] = '16. Matt Damon'\n",
    "# +"
   ]
  },
  {
   "cell_type": "code",
   "execution_count": null,
   "metadata": {},
   "outputs": [],
   "source": [
    "# фильтр фильмов с бюджетом выше среднего\n",
    "df = data[data['budget'] > data['budget'].mean()]\n",
    "\n",
    "# подсчет по актерам\n",
    "d = pd.Series(df['cast'].str.cat(sep='|').split('|'))\n",
    "d.value_counts()\n"
   ]
  },
  {
   "cell_type": "markdown",
   "metadata": {
    "colab_type": "text",
    "id": "NIh6AaW5Vp_n"
   },
   "source": [
    "# 17. В фильмах какого жанра больше всего снимался Nicolas Cage? "
   ]
  },
  {
   "cell_type": "code",
   "execution_count": 39,
   "metadata": {
    "colab": {},
    "colab_type": "code",
    "id": "H74SJDIBVp_n"
   },
   "outputs": [],
   "source": [
    "answers['17'] = '17. Action'\n",
    "# +"
   ]
  },
  {
   "cell_type": "code",
   "execution_count": null,
   "metadata": {},
   "outputs": [],
   "source": [
    "# фильтр по актеру Nicolas Cage\n",
    "df = data[data['cast'].str.contains('Nicolas Cage')]\n",
    "\n",
    "# подсчет по жанрам\n",
    "d = pd.Series(df['genres'].str.cat(sep='|').split('|'))\n",
    "d.value_counts()"
   ]
  },
  {
   "cell_type": "markdown",
   "metadata": {
    "colab_type": "text",
    "id": "RqOmPRfWVp_q"
   },
   "source": [
    "# 18. Самый убыточный фильм от Paramount Pictures"
   ]
  },
  {
   "cell_type": "code",
   "execution_count": 40,
   "metadata": {
    "colab": {},
    "colab_type": "code",
    "id": "9E_B0Y96Vp_r"
   },
   "outputs": [],
   "source": [
    "answers['18'] = '18. K-19: The Widowmaker (tt0267626)'\n",
    "# +"
   ]
  },
  {
   "cell_type": "code",
   "execution_count": null,
   "metadata": {},
   "outputs": [],
   "source": [
    "# формируем датафрейм из фильмов, которые снимались Paramount Pictures и далее определяем фильм\n",
    "new_data = data[data['production_companies'].str.contains('Paramount Pictures')]\n",
    "new_data['original_title'][new_data['profit'] == new_data['profit'].min()]"
   ]
  },
  {
   "cell_type": "markdown",
   "metadata": {
    "colab_type": "text",
    "id": "vS8Ur6ddVp_u"
   },
   "source": [
    "# 19. Какой год стал самым успешным по суммарным кассовым сборам?"
   ]
  },
  {
   "cell_type": "code",
   "execution_count": 41,
   "metadata": {
    "colab": {},
    "colab_type": "code",
    "id": "Dnbt4GdIVp_v"
   },
   "outputs": [],
   "source": [
    "answers['19'] = '19. 2015'\n",
    "# +"
   ]
  },
  {
   "cell_type": "code",
   "execution_count": null,
   "metadata": {},
   "outputs": [],
   "source": [
    "# формируем новый датафрейм группировкой по годам суммируя значения \n",
    "# и сортируем по суммарным кассовым сборам\n",
    "grouped_df = data.groupby(['release_year']).sum()\n",
    "grouped_df.sort_values(by = ['revenue'], ascending=False)"
   ]
  },
  {
   "cell_type": "markdown",
   "metadata": {
    "colab_type": "text",
    "id": "JAzJh4QAVp_z"
   },
   "source": [
    "# 20. Какой самый прибыльный год для студии Warner Bros?"
   ]
  },
  {
   "cell_type": "code",
   "execution_count": 42,
   "metadata": {
    "colab": {},
    "colab_type": "code",
    "id": "wgVu02DEVp_0"
   },
   "outputs": [],
   "source": [
    "answers['20'] = '20. 2014'\n",
    "# +"
   ]
  },
  {
   "cell_type": "code",
   "execution_count": null,
   "metadata": {},
   "outputs": [],
   "source": [
    "# формируем новый датафрейм, где присутствует Warner Bros\n",
    "# далее группируем о годам суммируя значения и сортируя по profit\n",
    "new_data = data[data['production_companies'].str.contains('Warner Bros')]\n",
    "new_data.groupby(['release_year']).sum().sort_values(by = ['profit'], ascending=False)\n"
   ]
  },
  {
   "cell_type": "markdown",
   "metadata": {
    "colab_type": "text",
    "id": "8Im1S2HRVp_4"
   },
   "source": [
    "# 21. В каком месяце за все годы суммарно вышло больше всего фильмов?"
   ]
  },
  {
   "cell_type": "code",
   "execution_count": 43,
   "metadata": {
    "colab": {},
    "colab_type": "code",
    "id": "lev6TH7gVp_4"
   },
   "outputs": [],
   "source": [
    "answers['21'] = '21. Сентябрь'\n",
    "# +"
   ]
  },
  {
   "cell_type": "code",
   "execution_count": null,
   "metadata": {},
   "outputs": [],
   "source": [
    "# создаем новый датафрейм группировкай по месяцам с подсчетом значений\n",
    "# далее сортируем по любому столбцу (в решении по imdb_id)\n",
    "grouped_df = data.groupby(['month']).count()\n",
    "grouped_df.sort_values(by = ['imdb_id'], ascending=False)"
   ]
  },
  {
   "cell_type": "markdown",
   "metadata": {
    "colab_type": "text",
    "id": "uAJsZ_NeVp_7"
   },
   "source": [
    "# 22. Сколько суммарно вышло фильмов летом? (за июнь, июль, август)"
   ]
  },
  {
   "cell_type": "code",
   "execution_count": 44,
   "metadata": {
    "colab": {},
    "colab_type": "code",
    "id": "Aa-hEREoVp_8"
   },
   "outputs": [],
   "source": [
    "answers['22'] = '22. 450'\n",
    "# +"
   ]
  },
  {
   "cell_type": "code",
   "execution_count": null,
   "metadata": {},
   "outputs": [],
   "source": [
    "# Количество фильмов за лето\n",
    "len(data[(6 <= data['month']) & (data['month'] <= 8)])"
   ]
  },
  {
   "cell_type": "markdown",
   "metadata": {
    "colab_type": "text",
    "id": "G94ppOY1VqAA"
   },
   "source": [
    "# 23. Для какого режиссера зима – самое продуктивное время года? "
   ]
  },
  {
   "cell_type": "code",
   "execution_count": 54,
   "metadata": {
    "colab": {},
    "colab_type": "code",
    "id": "RhNTsamuVqAB"
   },
   "outputs": [],
   "source": [
    "answers['23'] = '23. Peter Jackson'\n",
    "# +"
   ]
  },
  {
   "cell_type": "code",
   "execution_count": null,
   "metadata": {},
   "outputs": [],
   "source": [
    "# фильтр по зимним месяцам\n",
    "df = data[(data['month'] == 12) | (data['month'] <= 2)]\n",
    "\n",
    "# полсчет количества фильмов\n",
    "d = pd.Series(df['director'].str.cat(sep='|').split('|'))\n",
    "d = d.value_counts(ascending=False)\n",
    "d"
   ]
  },
  {
   "cell_type": "markdown",
   "metadata": {
    "colab_type": "text",
    "id": "RBo0JVjVVqAF"
   },
   "source": [
    "# 24. Какая студия дает самые длинные названия своим фильмам по количеству символов?"
   ]
  },
  {
   "cell_type": "code",
   "execution_count": 55,
   "metadata": {
    "colab": {},
    "colab_type": "code",
    "id": "QRGS8L0iVqAG"
   },
   "outputs": [],
   "source": [
    "answers['24'] = '24. Four By Two Productions'\n",
    "# +"
   ]
  },
  {
   "cell_type": "code",
   "execution_count": null,
   "metadata": {},
   "outputs": [],
   "source": [
    "# новый датафрейм, в котором в столбце 'original_title' указана длина названия\n",
    "df = data\n",
    "df['original_title'] = df['original_title'].astype(str).map(len)\n",
    "\n",
    "# подсчет и сортировка фильмов по длине названия\n",
    "d = pd.Series(df['production_companies'].str.cat(sep='|').split('|'))\n",
    "d = d.value_counts(ascending=False)\n",
    "for company in d.index:\n",
    "    d[company] = df['original_title'][df['production_companies'].map(lambda x:True if company in x else False)].mean()\n",
    "d.sort_values(ascending=False)"
   ]
  },
  {
   "cell_type": "markdown",
   "metadata": {
    "colab_type": "text",
    "id": "9G0hbvR7VqAK"
   },
   "source": [
    "# 25. Описание фильмов какой студии в среднем самые длинные по количеству слов?"
   ]
  },
  {
   "cell_type": "code",
   "execution_count": 56,
   "metadata": {
    "colab": {},
    "colab_type": "code",
    "id": "Ge2GsLNxVqAK"
   },
   "outputs": [],
   "source": [
    "answers['25'] = '25. Midnight Picture Show'\n",
    "# +"
   ]
  },
  {
   "cell_type": "code",
   "execution_count": null,
   "metadata": {},
   "outputs": [],
   "source": [
    "# Описание больше в том случае, если больше количество пробелов.\n",
    "# (При условии, что нет двойных пробелов, например. Это, честно, не проверял.)\n",
    "df = data\n",
    "# удаляем в столбце Описание все символы, кр оме пробелов\n",
    "df['overview'].replace(regex=True,inplace=True, to_replace = r'\\S', value = '')\n",
    "\n",
    "# заменяем в столбце Описание значения на количество пробелов\n",
    "df['overview'] = df['overview'].astype(str).map(len)\n",
    "\n",
    "# подсчет и сортировка фильмов по количеству пробелов\n",
    "d = pd.Series(df['production_companies'].str.cat(sep='|').split('|'))\n",
    "d = d.value_counts(ascending=False)\n",
    "for company in d.index:\n",
    "    d[company] = df['overview'][df['production_companies'].map(lambda x:True if company in x else False)].mean()\n",
    "d.sort_values(ascending=False)"
   ]
  },
  {
   "cell_type": "markdown",
   "metadata": {
    "colab_type": "text",
    "id": "FJ1AFt90VqAP"
   },
   "source": [
    "# 26. Какие фильмы входят в 1 процент лучших по рейтингу? \n",
    "по vote_average"
   ]
  },
  {
   "cell_type": "code",
   "execution_count": 57,
   "metadata": {
    "colab": {},
    "colab_type": "code",
    "id": "8qmJVq4CVqAQ"
   },
   "outputs": [],
   "source": [
    "answers['26'] = '26. Inside Out, The Dark Knight, 12 Years a Slave'\n",
    "# +"
   ]
  },
  {
   "cell_type": "code",
   "execution_count": null,
   "metadata": {},
   "outputs": [],
   "source": [
    "# минимальный рейтинг фильма, который входит в 10-ку самых лучших\n",
    "df = data\n",
    "m = df['vote_average'].sort_values(ascending=False).head(len(df)//100).min()\n",
    "\n",
    "# фильтр по рейтину, полученому выше\n",
    "df['original_title'][df['vote_average'] >= m]"
   ]
  },
  {
   "cell_type": "markdown",
   "metadata": {
    "colab_type": "text",
    "id": "MdXsUXbCVqAV"
   },
   "source": [
    "# 27. Какие актеры чаще всего снимаются в одном фильме вместе?\n"
   ]
  },
  {
   "cell_type": "code",
   "execution_count": 58,
   "metadata": {},
   "outputs": [],
   "source": [
    "answers['27'] = '27. Daniel Radcliffe & Rupert Grint '\n",
    "# +"
   ]
  },
  {
   "cell_type": "code",
   "execution_count": null,
   "metadata": {},
   "outputs": [],
   "source": [
    "# честно, без куратора по Пайтону не решил бы\n",
    "import itertools\n",
    "from itertools import combinations\n",
    "df = data\n",
    "pairs = data.cast.apply(lambda x: combinations(x.split('|'), 2)).tolist()\n",
    "pd.DataFrame(pairs).stack().value_counts()"
   ]
  },
  {
   "cell_type": "markdown",
   "metadata": {
    "colab_type": "text",
    "id": "U0nONFnGVqAX"
   },
   "source": [
    "# Submission"
   ]
  },
  {
   "cell_type": "code",
   "execution_count": 60,
   "metadata": {
    "colab": {},
    "colab_type": "code",
    "id": "IfcaRO9-VqAX",
    "outputId": "0f132912-32bb-4196-c98c-abfbc4ad5a5f"
   },
   "outputs": [
    {
     "data": {
      "text/plain": [
       "{'1': '1. Pirates of the Caribbean: On Stranger Tides (tt1298650)',\n",
       " '2': '2. Gods and Generals (tt0279111)',\n",
       " '3': '3. Winnie the Pooh (tt1449283)',\n",
       " '4': '4. 110',\n",
       " '5': '5. 107',\n",
       " '6': '6. Avatar (tt0499549)',\n",
       " '7': '7. The Lone Ranger (tt1210819)',\n",
       " '8': '8. 1478',\n",
       " '9': '9. The Dark Knight (tt0468569)',\n",
       " '10': '10. The Lone Ranger (tt1210819)',\n",
       " '11': '11. Drama',\n",
       " '12': '12. Drama',\n",
       " '13': '13. Peter Jackson',\n",
       " '14': '14. Robert Rodriguez',\n",
       " '15': '15. Chris Hemsworth',\n",
       " '16': '16. Matt Damon',\n",
       " '17': '17. Action',\n",
       " '18': '18. K-19: The Widowmaker (tt0267626)',\n",
       " '19': '19. 2015',\n",
       " '20': '20. 2014',\n",
       " '21': '21. Сентябрь',\n",
       " '22': '22. 450',\n",
       " '23': '23. Peter Jackson',\n",
       " '24': '24. Four By Two Productions',\n",
       " '25': '25. Midnight Picture Show',\n",
       " '27': '27. Daniel Radcliffe & Rupert Grint ',\n",
       " '26': '26. Inside Out, The Dark Knight, 12 Years a Slave'}"
      ]
     },
     "execution_count": 60,
     "metadata": {},
     "output_type": "execute_result"
    }
   ],
   "source": [
    "# в конце можно посмотреть свои ответы к каждому вопросу\n",
    "answers"
   ]
  },
  {
   "cell_type": "code",
   "execution_count": 59,
   "metadata": {
    "colab": {},
    "colab_type": "code",
    "id": "SiRmHPl8VqAd"
   },
   "outputs": [
    {
     "data": {
      "text/plain": [
       "27"
      ]
     },
     "execution_count": 59,
     "metadata": {},
     "output_type": "execute_result"
    }
   ],
   "source": [
    "# и убедиться что ни чего не пропустил)\n",
    "len(answers)"
   ]
  },
  {
   "cell_type": "code",
   "execution_count": 0,
   "metadata": {
    "colab": {},
    "colab_type": "code",
    "id": "uCfuTkRbVqAg"
   },
   "outputs": [],
   "source": []
  },
  {
   "cell_type": "code",
   "execution_count": 0,
   "metadata": {
    "colab": {},
    "colab_type": "code",
    "id": "Vwx3NrkSVqAl"
   },
   "outputs": [],
   "source": []
  }
 ],
 "metadata": {
  "colab": {
   "name": "Copy of [SF-DST] Movies IMBD v4.1 TEMPLATE.ipynb",
   "provenance": []
  },
  "kernelspec": {
   "display_name": "Python 3",
   "language": "python",
   "name": "python3"
  },
  "language_info": {
   "codemirror_mode": {
    "name": "ipython",
    "version": 3
   },
   "file_extension": ".py",
   "mimetype": "text/x-python",
   "name": "python",
   "nbconvert_exporter": "python",
   "pygments_lexer": "ipython3",
   "version": "3.7.6"
  }
 },
 "nbformat": 4,
 "nbformat_minor": 1
}
